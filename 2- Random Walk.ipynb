{
 "cells": [
  {
   "cell_type": "code",
   "execution_count": null,
   "id": "a243eb96",
   "metadata": {},
   "outputs": [],
   "source": [
    "from statsmodels.tsa.seasonal import seasonal_decompose, STL\n",
    "from statsmodels.graphics.tsaplots import plot_acf\n",
    "from statsmodels.tsa.stattools import adfuller\n",
    "import matplotlib.pyplot as plt\n",
    "import numpy as np\n",
    "import pandas as pd\n",
    "\n",
    "import warnings\n",
    "warnings.filterwarnings('ignore')\n",
    "\n",
    "%matplotlib inline"
   ]
  },
  {
   "cell_type": "code",
   "execution_count": null,
   "id": "f7a7fbcc",
   "metadata": {},
   "outputs": [],
   "source": [
    "df = pd.read_csv('PWHEAMTUSDM.csv')\n",
    "df.head()"
   ]
  },
  {
   "cell_type": "markdown",
   "id": "5aefcbaa",
   "metadata": {},
   "source": [
    "1- Testing For Stationarity"
   ]
  },
  {
   "cell_type": "code",
   "execution_count": null,
   "id": "f4e9d0cd",
   "metadata": {},
   "outputs": [],
   "source": [
    "def mean_over_time(process: np.array) -> np.array:\n",
    "    mean_func = []\n",
    "    \n",
    "    for i in range(len(process)):\n",
    "        mean_func.append(np.mean(process[:i]))\n",
    "    \n",
    "    return mean_func"
   ]
  },
  {
   "cell_type": "code",
   "execution_count": null,
   "id": "30b94dc7",
   "metadata": {},
   "outputs": [],
   "source": [
    "mean_over_time(df.PWHEAMTUSDM)"
   ]
  },
  {
   "cell_type": "code",
   "execution_count": null,
   "id": "7b1c4e02",
   "metadata": {},
   "outputs": [],
   "source": [
    "fig, ax = plt.subplots()\n",
    "\n",
    "ax.plot(mean_over_time(df.PWHEAMTUSDM))\n",
    "\n",
    "ax.set_xlabel('Timesteps')\n",
    "ax.set_ylabel('Mean')\n",
    "\n",
    "plt.tight_layout()"
   ]
  },
  {
   "cell_type": "code",
   "execution_count": null,
   "id": "0e0ff6ff",
   "metadata": {},
   "outputs": [],
   "source": [
    "def var_over_time(process: np.array) -> np.array:\n",
    "    var_func = []\n",
    "    \n",
    "    for i in range(len(process)):\n",
    "        var_func.append(np.var(process[:i]))\n",
    "    \n",
    "    return var_func"
   ]
  },
  {
   "cell_type": "code",
   "execution_count": null,
   "id": "95378237",
   "metadata": {},
   "outputs": [],
   "source": [
    "var_over_time(df.PWHEAMTUSDM)"
   ]
  },
  {
   "cell_type": "code",
   "execution_count": null,
   "id": "2af3be53",
   "metadata": {},
   "outputs": [],
   "source": [
    "fig, ax = plt.subplots()\n",
    "\n",
    "ax.plot(var_over_time(df.PWHEAMTUSDM))\n",
    "\n",
    "ax.set_xlabel('Timesteps')\n",
    "ax.set_ylabel('Variance')\n",
    "\n",
    "plt.tight_layout()"
   ]
  },
  {
   "cell_type": "code",
   "execution_count": null,
   "id": "19a6b4bb",
   "metadata": {},
   "outputs": [],
   "source": [
    "ADF_result = adfuller(df.PWHEAMTUSDM)\n",
    "\n",
    "print(f'ADF Statistic: {ADF_result[0]}')\n",
    "print(f'p-value: {ADF_result[1]}')"
   ]
  },
  {
   "cell_type": "code",
   "execution_count": null,
   "id": "dcd26693",
   "metadata": {},
   "outputs": [],
   "source": [
    "plot_acf(df.PWHEAMTUSDM, lags=20);\n",
    "\n",
    "plt.tight_layout()"
   ]
  },
  {
   "cell_type": "code",
   "execution_count": null,
   "id": "b01a6cae",
   "metadata": {},
   "outputs": [],
   "source": [
    "diff_random_walk = np.diff(df.PWHEAMTUSDM, n=1) #First order differencing n=1"
   ]
  },
  {
   "cell_type": "code",
   "execution_count": null,
   "id": "5f2337f1",
   "metadata": {},
   "outputs": [],
   "source": [
    "plt.plot(diff_random_walk)\n",
    "plt.title('Differenced Random Walk')\n",
    "plt.xlabel('Timesteps')\n",
    "plt.ylabel('Value')\n",
    "plt.tight_layout()"
   ]
  },
  {
   "cell_type": "code",
   "execution_count": null,
   "id": "3f355edc",
   "metadata": {},
   "outputs": [],
   "source": [
    "ADF_result = adfuller(diff_random_walk)\n",
    "\n",
    "print(f'ADF Statistic: {ADF_result[0]}')\n",
    "print(f'p-value: {ADF_result[1]}')"
   ]
  },
  {
   "cell_type": "code",
   "execution_count": null,
   "id": "0cec209b",
   "metadata": {},
   "outputs": [],
   "source": [
    "plot_acf(diff_random_walk, lags=20);\n",
    "\n",
    "plt.tight_layout()"
   ]
  }
 ],
 "metadata": {
  "interpreter": {
   "hash": "f1c3944ae1c59da1951438fa130626139149be23e3e030c7902ddb569f64e018"
  },
  "kernelspec": {
   "display_name": "Python 3.9.6 64-bit",
   "language": "python",
   "name": "python3"
  },
  "language_info": {
   "codemirror_mode": {
    "name": "ipython",
    "version": 3
   },
   "file_extension": ".py",
   "mimetype": "text/x-python",
   "name": "python",
   "nbconvert_exporter": "python",
   "pygments_lexer": "ipython3",
   "version": "3.9.6"
  }
 },
 "nbformat": 4,
 "nbformat_minor": 5
}
